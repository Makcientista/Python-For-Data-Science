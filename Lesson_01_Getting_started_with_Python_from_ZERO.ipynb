{
 "cells": [
  {
   "cell_type": "code",
   "execution_count": null,
   "metadata": {},
   "outputs": [],
   "source": [
    "#Carrege o conjunto de dados chamado kc_house_data.csv do HD para memoria"
   ]
  },
  {
   "cell_type": "code",
   "execution_count": 2,
   "metadata": {},
   "outputs": [],
   "source": [
    "import pandas as pd #import = função  |  pandas = biblioteca  |  as pd = apelidando a bibliota pandas como \"pd\""
   ]
  },
  {
   "cell_type": "code",
   "execution_count": null,
   "metadata": {},
   "outputs": [],
   "source": [
    "#função - read_csv"
   ]
  },
  {
   "cell_type": "code",
   "execution_count": 3,
   "metadata": {},
   "outputs": [],
   "source": [
    "data = pd.read_csv('datasets/kc_house_data.csv') # . (ponto) um operador Orientada a objeto que inda que pretendemos acessar um objeto | pd. = para acessar a função \"read_csv\""
   ]
  },
  {
   "cell_type": "code",
   "execution_count": null,
   "metadata": {},
   "outputs": [],
   "source": []
  },
  {
   "cell_type": "code",
   "execution_count": null,
   "metadata": {},
   "outputs": [],
   "source": []
  },
  {
   "cell_type": "code",
   "execution_count": 4,
   "metadata": {},
   "outputs": [
    {
     "name": "stdout",
     "output_type": "stream",
     "text": [
      "           id             date     price  bedrooms  bathrooms  sqft_living  \\\n",
      "0  7129300520  20141013T000000  221900.0         3       1.00         1180   \n",
      "1  6414100192  20141209T000000  538000.0         3       2.25         2570   \n",
      "2  5631500400  20150225T000000  180000.0         2       1.00          770   \n",
      "3  2487200875  20141209T000000  604000.0         4       3.00         1960   \n",
      "4  1954400510  20150218T000000  510000.0         3       2.00         1680   \n",
      "\n",
      "   sqft_lot  floors  waterfront  view  ...  grade  sqft_above  sqft_basement  \\\n",
      "0      5650     1.0           0     0  ...      7      1180.0              0   \n",
      "1      7242     2.0           0     0  ...      7      2170.0            400   \n",
      "2     10000     1.0           0     0  ...      6       770.0              0   \n",
      "3      5000     1.0           0     0  ...      7      1050.0            910   \n",
      "4      8080     1.0           0     0  ...      8      1680.0              0   \n",
      "\n",
      "   yr_built  yr_renovated  zipcode      lat     long  sqft_living15  \\\n",
      "0      1955             0    98178  47.5112 -122.257           1340   \n",
      "1      1951          1991    98125  47.7210 -122.319           1690   \n",
      "2      1933             0    98028  47.7379 -122.233           2720   \n",
      "3      1965             0    98136  47.5208 -122.393           1360   \n",
      "4      1987             0    98074  47.6168 -122.045           1800   \n",
      "\n",
      "   sqft_lot15  \n",
      "0        5650  \n",
      "1        7639  \n",
      "2        8062  \n",
      "3        5000  \n",
      "4        7503  \n",
      "\n",
      "[5 rows x 21 columns]\n"
     ]
    }
   ],
   "source": [
    "print(data.head()) # imprimir as sinco primeiras linhas"
   ]
  },
  {
   "cell_type": "code",
   "execution_count": null,
   "metadata": {},
   "outputs": [],
   "source": [
    "#mostre o numero de colunas e o numero de linhas do conjunto de dados |  Função data.shape = num coluna x num de linas.(colunas = 21613, linhas = 21))"
   ]
  },
  {
   "cell_type": "code",
   "execution_count": 5,
   "metadata": {},
   "outputs": [
    {
     "name": "stdout",
     "output_type": "stream",
     "text": [
      "(21613, 21)\n"
     ]
    }
   ],
   "source": [
    "print(data.shape)       "
   ]
  },
  {
   "cell_type": "code",
   "execution_count": 6,
   "metadata": {},
   "outputs": [
    {
     "name": "stdout",
     "output_type": "stream",
     "text": [
      "Index(['id', 'date', 'price', 'bedrooms', 'bathrooms', 'sqft_living',\n",
      "       'sqft_lot', 'floors', 'waterfront', 'view', 'condition', 'grade',\n",
      "       'sqft_above', 'sqft_basement', 'yr_built', 'yr_renovated', 'zipcode',\n",
      "       'lat', 'long', 'sqft_living15', 'sqft_lot15'],\n",
      "      dtype='object')\n"
     ]
    }
   ],
   "source": [
    " print(data.columns) #mostre na tela o nome das colunas do conjunto de dados"
   ]
  },
  {
   "cell_type": "code",
   "execution_count": 9,
   "metadata": {},
   "outputs": [
    {
     "name": "stdout",
     "output_type": "stream",
     "text": [
      "               id             date      price  bedrooms  bathrooms  \\\n",
      "1149   3421079032  20150217T000000    75000.0         1       0.00   \n",
      "15293    40000362  20140506T000000    78000.0         2       1.00   \n",
      "465    8658300340  20140523T000000    80000.0         1       0.75   \n",
      "16198  3028200080  20150324T000000    81000.0         2       1.00   \n",
      "8274   3883800011  20141105T000000    82000.0         3       1.00   \n",
      "...           ...              ...        ...       ...        ...   \n",
      "1448   8907500070  20150413T000000  5350000.0         5       5.00   \n",
      "4411   2470100110  20140804T000000  5570000.0         5       5.75   \n",
      "9254   9208900037  20140919T000000  6885000.0         6       7.75   \n",
      "3914   9808700762  20140611T000000  7062500.0         5       4.50   \n",
      "7252   6762700020  20141013T000000  7700000.0         6       8.00   \n",
      "\n",
      "       sqft_living  sqft_lot  floors  waterfront  view  ...  grade  \\\n",
      "1149           670     43377     1.0           0     0  ...      3   \n",
      "15293          780     16344     1.0           0     0  ...      5   \n",
      "465            430      5050     1.0           0     0  ...      4   \n",
      "16198          730      9975     1.0           0     0  ...      5   \n",
      "8274           860     10426     1.0           0     0  ...      6   \n",
      "...            ...       ...     ...         ...   ...  ...    ...   \n",
      "1448          8000     23985     2.0           0     4  ...     12   \n",
      "4411          9200     35069     2.0           0     0  ...     13   \n",
      "9254          9890     31374     2.0           0     4  ...     13   \n",
      "3914         10040     37325     2.0           1     2  ...     11   \n",
      "7252         12050     27600     2.5           0     3  ...     13   \n",
      "\n",
      "       sqft_above  sqft_basement  yr_built  yr_renovated  zipcode      lat  \\\n",
      "1149        670.0              0      1966             0    98022  47.2638   \n",
      "15293       780.0              0      1942             0    98168  47.4739   \n",
      "465         430.0              0      1912             0    98014  47.6499   \n",
      "16198       730.0              0      1943             0    98168  47.4808   \n",
      "8274        860.0              0      1954             0    98146  47.4987   \n",
      "...           ...            ...       ...           ...      ...      ...   \n",
      "1448       6720.0           1280      2009             0    98004  47.6232   \n",
      "4411       6200.0           3000      2001             0    98039  47.6289   \n",
      "9254       8860.0           1030      2001             0    98039  47.6305   \n",
      "3914       7680.0           2360      1940          2001    98004  47.6500   \n",
      "7252       8570.0           3480      1910          1987    98102  47.6298   \n",
      "\n",
      "          long  sqft_living15  sqft_lot15  \n",
      "1149  -121.906           1160       42882  \n",
      "15293 -122.280           1700       10387  \n",
      "465   -121.909           1200        7500  \n",
      "16198 -122.315            860        9000  \n",
      "8274  -122.341           1140       11250  \n",
      "...        ...            ...         ...  \n",
      "1448  -122.220           4600       21750  \n",
      "4411  -122.233           3560       24345  \n",
      "9254  -122.240           4540       42730  \n",
      "3914  -122.214           3930       25449  \n",
      "7252  -122.323           3940        8800  \n",
      "\n",
      "[21613 rows x 21 columns]\n"
     ]
    }
   ],
   "source": [
    "print(data.sort_values('price')) #mostre na tela o ocnjuto de dados ordenados pela coluna price"
   ]
  },
  {
   "cell_type": "code",
   "execution_count": null,
   "metadata": {},
   "outputs": [],
   "source": [
    "#mostre na tela o ocnjuto de dados ordenados pela coluna price"
   ]
  },
  {
   "cell_type": "code",
   "execution_count": 7,
   "metadata": {},
   "outputs": [
    {
     "name": "stdout",
     "output_type": "stream",
     "text": [
      "               id      price\n",
      "1149   3421079032    75000.0\n",
      "15293    40000362    78000.0\n",
      "465    8658300340    80000.0\n",
      "16198  3028200080    81000.0\n",
      "8274   3883800011    82000.0\n",
      "...           ...        ...\n",
      "1448   8907500070  5350000.0\n",
      "4411   2470100110  5570000.0\n",
      "9254   9208900037  6885000.0\n",
      "3914   9808700762  7062500.0\n",
      "7252   6762700020  7700000.0\n",
      "\n",
      "[21613 rows x 2 columns]\n"
     ]
    }
   ],
   "source": [
    "print(data[['id', 'price']].sort_values('price')) #[['id', 'price']] ordenar pelas colunas \"id e price\""
   ]
  },
  {
   "cell_type": "code",
   "execution_count": null,
   "metadata": {},
   "outputs": [],
   "source": [
    " #mostre na tela o ocnjuto de dados ordenados pela coluna price do maior para o menor preço"
   ]
  },
  {
   "cell_type": "code",
   "execution_count": 8,
   "metadata": {},
   "outputs": [
    {
     "name": "stdout",
     "output_type": "stream",
     "text": [
      "               id      price\n",
      "7252   6762700020  7700000.0\n",
      "3914   9808700762  7062500.0\n",
      "9254   9208900037  6885000.0\n",
      "4411   2470100110  5570000.0\n",
      "1448   8907500070  5350000.0\n",
      "...           ...        ...\n",
      "8274   3883800011    82000.0\n",
      "16198  3028200080    81000.0\n",
      "465    8658300340    80000.0\n",
      "15293    40000362    78000.0\n",
      "1149   3421079032    75000.0\n",
      "\n",
      "[21613 rows x 2 columns]\n"
     ]
    }
   ],
   "source": [
    "print(data[['id', 'price']].sort_values('price', ascending=False)) #sort_values = ordenar as c \n",
    "#| print(data[['id', 'price']] = printa na tela as colunas \"id e prices\" .sort_values('price') = elas devem ser ordenadas pela \n",
    "#coluna \"price\" | ('price', ascending=False) = como eu quero da forma decrescente então o crescente=False isto fará o print do maior ao menor preço\n",
    "\n"
   ]
  },
  {
   "cell_type": "code",
   "execution_count": null,
   "metadata": {},
   "outputs": [],
   "source": []
  }
 ],
 "metadata": {
  "kernelspec": {
   "display_name": "Python 3",
   "language": "python",
   "name": "python3"
  },
  "language_info": {
   "codemirror_mode": {
    "name": "ipython",
    "version": 3
   },
   "file_extension": ".py",
   "mimetype": "text/x-python",
   "name": "python",
   "nbconvert_exporter": "python",
   "pygments_lexer": "ipython3",
   "version": "3.7.4"
  }
 },
 "nbformat": 4,
 "nbformat_minor": 4
}
